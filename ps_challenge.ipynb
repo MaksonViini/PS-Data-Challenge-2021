{
 "cells": [
  {
   "cell_type": "code",
   "execution_count": 1,
   "source": [
    "import modin.pandas as pd     \n",
    "import numpy as np "
   ],
   "outputs": [],
   "metadata": {}
  },
  {
   "cell_type": "code",
   "execution_count": 3,
   "source": [
    "data = pd.read_csv('archive/train.csv')\n"
   ],
   "outputs": [],
   "metadata": {}
  },
  {
   "cell_type": "code",
   "execution_count": 4,
   "source": [
    "data.head()"
   ],
   "outputs": [
    {
     "output_type": "execute_result",
     "data": {
      "text/plain": [
       "   id  var1  var2  var3   var4  var5  var6  var7  var8  var9  ...       var60  \\\n",
       "0   1    18    19  2853  29442  1386  2435    35  -999     3  ...    0.311441   \n",
       "1   8     4   110  1986  13684  7189  -999  -999    17     3  ... -999.000000   \n",
       "2  30     0    39  1019  10232   678   791    16  -999     3  ... -999.000000   \n",
       "3  43    20    39  1751   2689  8235  1042    13    10     1  ... -999.000000   \n",
       "4  46     7    44  2262  29428  6031   304    16  -999     3  ...    0.021226   \n",
       "\n",
       "        var61     var62     var63     var64       var65      var66     var67  \\\n",
       "0    0.142303  0.056146  0.632694  0.024054    0.253356    0.00603  0.132353   \n",
       "1 -999.000000  0.070991  0.773966  0.019315 -999.000000 -999.00000  0.147059   \n",
       "2    0.200814  0.051046  0.980827  0.018536 -999.000000 -999.00000  0.382353   \n",
       "3    0.352379  0.044301  0.951564  0.023684    0.363370    0.00201  0.147059   \n",
       "4    0.226161  0.059125  0.906155  0.020733 -999.000000 -999.00000  0.455882   \n",
       "\n",
       "      var68  y  \n",
       "0  0.139706  1  \n",
       "1  0.106618  0  \n",
       "2  0.242647  0  \n",
       "3  0.132353  0  \n",
       "4  0.132353  1  \n",
       "\n",
       "[5 rows x 70 columns]"
      ],
      "text/html": [
       "<div>\n",
       "<style scoped>\n",
       "    .dataframe tbody tr th:only-of-type {\n",
       "        vertical-align: middle;\n",
       "    }\n",
       "\n",
       "    .dataframe tbody tr th {\n",
       "        vertical-align: top;\n",
       "    }\n",
       "\n",
       "    .dataframe thead th {\n",
       "        text-align: right;\n",
       "    }\n",
       "</style>\n",
       "<table border=\"1\" class=\"dataframe\">\n",
       "  <thead>\n",
       "    <tr style=\"text-align: right;\">\n",
       "      <th></th>\n",
       "      <th>id</th>\n",
       "      <th>var1</th>\n",
       "      <th>var2</th>\n",
       "      <th>var3</th>\n",
       "      <th>var4</th>\n",
       "      <th>var5</th>\n",
       "      <th>var6</th>\n",
       "      <th>var7</th>\n",
       "      <th>var8</th>\n",
       "      <th>var9</th>\n",
       "      <th>...</th>\n",
       "      <th>var60</th>\n",
       "      <th>var61</th>\n",
       "      <th>var62</th>\n",
       "      <th>var63</th>\n",
       "      <th>var64</th>\n",
       "      <th>var65</th>\n",
       "      <th>var66</th>\n",
       "      <th>var67</th>\n",
       "      <th>var68</th>\n",
       "      <th>y</th>\n",
       "    </tr>\n",
       "  </thead>\n",
       "  <tbody>\n",
       "    <tr>\n",
       "      <th>0</th>\n",
       "      <td>1</td>\n",
       "      <td>18</td>\n",
       "      <td>19</td>\n",
       "      <td>2853</td>\n",
       "      <td>29442</td>\n",
       "      <td>1386</td>\n",
       "      <td>2435</td>\n",
       "      <td>35</td>\n",
       "      <td>-999</td>\n",
       "      <td>3</td>\n",
       "      <td>...</td>\n",
       "      <td>0.311441</td>\n",
       "      <td>0.142303</td>\n",
       "      <td>0.056146</td>\n",
       "      <td>0.632694</td>\n",
       "      <td>0.024054</td>\n",
       "      <td>0.253356</td>\n",
       "      <td>0.00603</td>\n",
       "      <td>0.132353</td>\n",
       "      <td>0.139706</td>\n",
       "      <td>1</td>\n",
       "    </tr>\n",
       "    <tr>\n",
       "      <th>1</th>\n",
       "      <td>8</td>\n",
       "      <td>4</td>\n",
       "      <td>110</td>\n",
       "      <td>1986</td>\n",
       "      <td>13684</td>\n",
       "      <td>7189</td>\n",
       "      <td>-999</td>\n",
       "      <td>-999</td>\n",
       "      <td>17</td>\n",
       "      <td>3</td>\n",
       "      <td>...</td>\n",
       "      <td>-999.000000</td>\n",
       "      <td>-999.000000</td>\n",
       "      <td>0.070991</td>\n",
       "      <td>0.773966</td>\n",
       "      <td>0.019315</td>\n",
       "      <td>-999.000000</td>\n",
       "      <td>-999.00000</td>\n",
       "      <td>0.147059</td>\n",
       "      <td>0.106618</td>\n",
       "      <td>0</td>\n",
       "    </tr>\n",
       "    <tr>\n",
       "      <th>2</th>\n",
       "      <td>30</td>\n",
       "      <td>0</td>\n",
       "      <td>39</td>\n",
       "      <td>1019</td>\n",
       "      <td>10232</td>\n",
       "      <td>678</td>\n",
       "      <td>791</td>\n",
       "      <td>16</td>\n",
       "      <td>-999</td>\n",
       "      <td>3</td>\n",
       "      <td>...</td>\n",
       "      <td>-999.000000</td>\n",
       "      <td>0.200814</td>\n",
       "      <td>0.051046</td>\n",
       "      <td>0.980827</td>\n",
       "      <td>0.018536</td>\n",
       "      <td>-999.000000</td>\n",
       "      <td>-999.00000</td>\n",
       "      <td>0.382353</td>\n",
       "      <td>0.242647</td>\n",
       "      <td>0</td>\n",
       "    </tr>\n",
       "    <tr>\n",
       "      <th>3</th>\n",
       "      <td>43</td>\n",
       "      <td>20</td>\n",
       "      <td>39</td>\n",
       "      <td>1751</td>\n",
       "      <td>2689</td>\n",
       "      <td>8235</td>\n",
       "      <td>1042</td>\n",
       "      <td>13</td>\n",
       "      <td>10</td>\n",
       "      <td>1</td>\n",
       "      <td>...</td>\n",
       "      <td>-999.000000</td>\n",
       "      <td>0.352379</td>\n",
       "      <td>0.044301</td>\n",
       "      <td>0.951564</td>\n",
       "      <td>0.023684</td>\n",
       "      <td>0.363370</td>\n",
       "      <td>0.00201</td>\n",
       "      <td>0.147059</td>\n",
       "      <td>0.132353</td>\n",
       "      <td>0</td>\n",
       "    </tr>\n",
       "    <tr>\n",
       "      <th>4</th>\n",
       "      <td>46</td>\n",
       "      <td>7</td>\n",
       "      <td>44</td>\n",
       "      <td>2262</td>\n",
       "      <td>29428</td>\n",
       "      <td>6031</td>\n",
       "      <td>304</td>\n",
       "      <td>16</td>\n",
       "      <td>-999</td>\n",
       "      <td>3</td>\n",
       "      <td>...</td>\n",
       "      <td>0.021226</td>\n",
       "      <td>0.226161</td>\n",
       "      <td>0.059125</td>\n",
       "      <td>0.906155</td>\n",
       "      <td>0.020733</td>\n",
       "      <td>-999.000000</td>\n",
       "      <td>-999.00000</td>\n",
       "      <td>0.455882</td>\n",
       "      <td>0.132353</td>\n",
       "      <td>1</td>\n",
       "    </tr>\n",
       "  </tbody>\n",
       "</table>\n",
       "<p>5 rows x 70 columns</p>\n",
       "</div>"
      ]
     },
     "metadata": {},
     "execution_count": 4
    }
   ],
   "metadata": {}
  },
  {
   "cell_type": "code",
   "execution_count": 5,
   "source": [
    "data.dtypes"
   ],
   "outputs": [
    {
     "output_type": "execute_result",
     "data": {
      "text/plain": [
       "id         int64\n",
       "var1       int64\n",
       "var2       int64\n",
       "var3       int64\n",
       "var4       int64\n",
       "          ...   \n",
       "var65    float64\n",
       "var66    float64\n",
       "var67    float64\n",
       "var68    float64\n",
       "y          int64\n",
       "Length: 70, dtype: object"
      ]
     },
     "metadata": {},
     "execution_count": 5
    }
   ],
   "metadata": {}
  },
  {
   "cell_type": "code",
   "execution_count": 7,
   "source": [
    "data.isna().sum().sum()"
   ],
   "outputs": [
    {
     "output_type": "execute_result",
     "data": {
      "text/plain": [
       "0"
      ]
     },
     "metadata": {},
     "execution_count": 7
    }
   ],
   "metadata": {}
  },
  {
   "cell_type": "code",
   "execution_count": null,
   "source": [],
   "outputs": [],
   "metadata": {}
  }
 ],
 "metadata": {
  "orig_nbformat": 4,
  "language_info": {
   "name": "python",
   "version": "3.9.5",
   "mimetype": "text/x-python",
   "codemirror_mode": {
    "name": "ipython",
    "version": 3
   },
   "pygments_lexer": "ipython3",
   "nbconvert_exporter": "python",
   "file_extension": ".py"
  },
  "kernelspec": {
   "name": "python3",
   "display_name": "Python 3.9.5 64-bit"
  },
  "interpreter": {
   "hash": "916dbcbb3f70747c44a77c7bcd40155683ae19c65e1c03b4aa3499c5328201f1"
  }
 },
 "nbformat": 4,
 "nbformat_minor": 2
}