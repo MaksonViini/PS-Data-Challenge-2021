{
 "cells": [
  {
   "cell_type": "code",
   "execution_count": 1,
   "source": [
    "import pandas as pd\n",
    "import numpy as np\n",
    "\n",
    "from imblearn.over_sampling import SMOTE\n",
    "\n",
    "from sklearn.model_selection import train_test_split\n",
    "\n",
    "from sklearn.pipeline import Pipeline\n",
    "\n",
    "\n",
    "from lightgbm import LGBMClassifier\n",
    "\n",
    "from imblearn.over_sampling import SMOTE\n",
    "from sklearn.preprocessing import MinMaxScaler, StandardScaler\n",
    "from sklearn.model_selection import cross_val_score\n",
    "\n",
    "from sklearn.model_selection import RepeatedStratifiedKFold\n",
    "\n",
    "\n",
    "from skopt import BayesSearchCV\n",
    "import seaborn as sns\n",
    "\n",
    "%matplotlib inline\n",
    "\n",
    "import keras\n",
    "from keras.models import Sequential\n",
    "from keras.layers import Dense\n",
    "\n",
    "pd.set_option('display.max_columns', 500)"
   ],
   "outputs": [
    {
     "output_type": "stream",
     "name": "stderr",
     "text": [
      "2021-09-30 21:58:43.563104: W tensorflow/stream_executor/platform/default/dso_loader.cc:64] Could not load dynamic library 'libcudart.so.11.0'; dlerror: libcudart.so.11.0: cannot open shared object file: No such file or directory\n",
      "2021-09-30 21:58:43.563123: I tensorflow/stream_executor/cuda/cudart_stub.cc:29] Ignore above cudart dlerror if you do not have a GPU set up on your machine.\n"
     ]
    }
   ],
   "metadata": {}
  },
  {
   "cell_type": "code",
   "execution_count": 2,
   "source": [
    "data = pd.read_csv('archive/train.csv')\n",
    "test = pd.read_csv('archive/test.csv')\n"
   ],
   "outputs": [],
   "metadata": {}
  },
  {
   "cell_type": "code",
   "execution_count": 3,
   "source": [
    "data.head()"
   ],
   "outputs": [
    {
     "output_type": "execute_result",
     "data": {
      "text/html": [
       "<div>\n",
       "<style scoped>\n",
       "    .dataframe tbody tr th:only-of-type {\n",
       "        vertical-align: middle;\n",
       "    }\n",
       "\n",
       "    .dataframe tbody tr th {\n",
       "        vertical-align: top;\n",
       "    }\n",
       "\n",
       "    .dataframe thead th {\n",
       "        text-align: right;\n",
       "    }\n",
       "</style>\n",
       "<table border=\"1\" class=\"dataframe\">\n",
       "  <thead>\n",
       "    <tr style=\"text-align: right;\">\n",
       "      <th></th>\n",
       "      <th>id</th>\n",
       "      <th>var1</th>\n",
       "      <th>var2</th>\n",
       "      <th>var3</th>\n",
       "      <th>var4</th>\n",
       "      <th>var5</th>\n",
       "      <th>var6</th>\n",
       "      <th>var7</th>\n",
       "      <th>var8</th>\n",
       "      <th>var9</th>\n",
       "      <th>var10</th>\n",
       "      <th>var11</th>\n",
       "      <th>var12</th>\n",
       "      <th>var13</th>\n",
       "      <th>var14</th>\n",
       "      <th>var15</th>\n",
       "      <th>var16</th>\n",
       "      <th>var17</th>\n",
       "      <th>var18</th>\n",
       "      <th>var19</th>\n",
       "      <th>var20</th>\n",
       "      <th>var21</th>\n",
       "      <th>var22</th>\n",
       "      <th>var23</th>\n",
       "      <th>var24</th>\n",
       "      <th>var25</th>\n",
       "      <th>var26</th>\n",
       "      <th>var27</th>\n",
       "      <th>var28</th>\n",
       "      <th>var29</th>\n",
       "      <th>var30</th>\n",
       "      <th>var31</th>\n",
       "      <th>var32</th>\n",
       "      <th>var33</th>\n",
       "      <th>var34</th>\n",
       "      <th>var35</th>\n",
       "      <th>var36</th>\n",
       "      <th>var37</th>\n",
       "      <th>var38</th>\n",
       "      <th>var39</th>\n",
       "      <th>var40</th>\n",
       "      <th>var41</th>\n",
       "      <th>var42</th>\n",
       "      <th>var43</th>\n",
       "      <th>var44</th>\n",
       "      <th>var45</th>\n",
       "      <th>var46</th>\n",
       "      <th>var47</th>\n",
       "      <th>var48</th>\n",
       "      <th>var49</th>\n",
       "      <th>var50</th>\n",
       "      <th>var51</th>\n",
       "      <th>var52</th>\n",
       "      <th>var53</th>\n",
       "      <th>var54</th>\n",
       "      <th>var55</th>\n",
       "      <th>var56</th>\n",
       "      <th>var57</th>\n",
       "      <th>var58</th>\n",
       "      <th>var59</th>\n",
       "      <th>var60</th>\n",
       "      <th>var61</th>\n",
       "      <th>var62</th>\n",
       "      <th>var63</th>\n",
       "      <th>var64</th>\n",
       "      <th>var65</th>\n",
       "      <th>var66</th>\n",
       "      <th>var67</th>\n",
       "      <th>var68</th>\n",
       "      <th>y</th>\n",
       "    </tr>\n",
       "  </thead>\n",
       "  <tbody>\n",
       "    <tr>\n",
       "      <th>0</th>\n",
       "      <td>1</td>\n",
       "      <td>18</td>\n",
       "      <td>19</td>\n",
       "      <td>2853</td>\n",
       "      <td>29442</td>\n",
       "      <td>1386</td>\n",
       "      <td>2435</td>\n",
       "      <td>35</td>\n",
       "      <td>-999</td>\n",
       "      <td>3</td>\n",
       "      <td>63</td>\n",
       "      <td>6498</td>\n",
       "      <td>1166</td>\n",
       "      <td>2007</td>\n",
       "      <td>26</td>\n",
       "      <td>13</td>\n",
       "      <td>11</td>\n",
       "      <td>11</td>\n",
       "      <td>4</td>\n",
       "      <td>1547</td>\n",
       "      <td>26</td>\n",
       "      <td>2068</td>\n",
       "      <td>1</td>\n",
       "      <td>3</td>\n",
       "      <td>0</td>\n",
       "      <td>4</td>\n",
       "      <td>7</td>\n",
       "      <td>0</td>\n",
       "      <td>24</td>\n",
       "      <td>4</td>\n",
       "      <td>2</td>\n",
       "      <td>0</td>\n",
       "      <td>16</td>\n",
       "      <td>3</td>\n",
       "      <td>44</td>\n",
       "      <td>463</td>\n",
       "      <td>27</td>\n",
       "      <td>2</td>\n",
       "      <td>0</td>\n",
       "      <td>4</td>\n",
       "      <td>9</td>\n",
       "      <td>3</td>\n",
       "      <td>25</td>\n",
       "      <td>6</td>\n",
       "      <td>1</td>\n",
       "      <td>4</td>\n",
       "      <td>3</td>\n",
       "      <td>1</td>\n",
       "      <td>0</td>\n",
       "      <td>0</td>\n",
       "      <td>0</td>\n",
       "      <td>0</td>\n",
       "      <td>42</td>\n",
       "      <td>1</td>\n",
       "      <td>1</td>\n",
       "      <td>0.212414</td>\n",
       "      <td>0.137</td>\n",
       "      <td>0.833333</td>\n",
       "      <td>0.037822</td>\n",
       "      <td>0.058070</td>\n",
       "      <td>0.311441</td>\n",
       "      <td>0.142303</td>\n",
       "      <td>0.056146</td>\n",
       "      <td>0.632694</td>\n",
       "      <td>0.024054</td>\n",
       "      <td>0.253356</td>\n",
       "      <td>0.00603</td>\n",
       "      <td>0.132353</td>\n",
       "      <td>0.139706</td>\n",
       "      <td>1</td>\n",
       "    </tr>\n",
       "    <tr>\n",
       "      <th>1</th>\n",
       "      <td>8</td>\n",
       "      <td>4</td>\n",
       "      <td>110</td>\n",
       "      <td>1986</td>\n",
       "      <td>13684</td>\n",
       "      <td>7189</td>\n",
       "      <td>-999</td>\n",
       "      <td>-999</td>\n",
       "      <td>17</td>\n",
       "      <td>3</td>\n",
       "      <td>63</td>\n",
       "      <td>13989</td>\n",
       "      <td>497</td>\n",
       "      <td>2289</td>\n",
       "      <td>16</td>\n",
       "      <td>1</td>\n",
       "      <td>3</td>\n",
       "      <td>3</td>\n",
       "      <td>3</td>\n",
       "      <td>1797</td>\n",
       "      <td>16</td>\n",
       "      <td>2417</td>\n",
       "      <td>5</td>\n",
       "      <td>1</td>\n",
       "      <td>2</td>\n",
       "      <td>1</td>\n",
       "      <td>6</td>\n",
       "      <td>1</td>\n",
       "      <td>4</td>\n",
       "      <td>2</td>\n",
       "      <td>1</td>\n",
       "      <td>0</td>\n",
       "      <td>14</td>\n",
       "      <td>0</td>\n",
       "      <td>1</td>\n",
       "      <td>532</td>\n",
       "      <td>2</td>\n",
       "      <td>1</td>\n",
       "      <td>0</td>\n",
       "      <td>4</td>\n",
       "      <td>7</td>\n",
       "      <td>3</td>\n",
       "      <td>30</td>\n",
       "      <td>3</td>\n",
       "      <td>0</td>\n",
       "      <td>0</td>\n",
       "      <td>0</td>\n",
       "      <td>0</td>\n",
       "      <td>0</td>\n",
       "      <td>0</td>\n",
       "      <td>0</td>\n",
       "      <td>0</td>\n",
       "      <td>20</td>\n",
       "      <td>1</td>\n",
       "      <td>1</td>\n",
       "      <td>0.228784</td>\n",
       "      <td>0.308</td>\n",
       "      <td>0.305376</td>\n",
       "      <td>0.069325</td>\n",
       "      <td>0.248909</td>\n",
       "      <td>-999.000000</td>\n",
       "      <td>-999.000000</td>\n",
       "      <td>0.070991</td>\n",
       "      <td>0.773966</td>\n",
       "      <td>0.019315</td>\n",
       "      <td>-999.000000</td>\n",
       "      <td>-999.00000</td>\n",
       "      <td>0.147059</td>\n",
       "      <td>0.106618</td>\n",
       "      <td>0</td>\n",
       "    </tr>\n",
       "    <tr>\n",
       "      <th>2</th>\n",
       "      <td>30</td>\n",
       "      <td>0</td>\n",
       "      <td>39</td>\n",
       "      <td>1019</td>\n",
       "      <td>10232</td>\n",
       "      <td>678</td>\n",
       "      <td>791</td>\n",
       "      <td>16</td>\n",
       "      <td>-999</td>\n",
       "      <td>3</td>\n",
       "      <td>63</td>\n",
       "      <td>9739</td>\n",
       "      <td>562</td>\n",
       "      <td>641</td>\n",
       "      <td>10</td>\n",
       "      <td>34</td>\n",
       "      <td>34</td>\n",
       "      <td>10</td>\n",
       "      <td>4</td>\n",
       "      <td>511</td>\n",
       "      <td>10</td>\n",
       "      <td>664</td>\n",
       "      <td>5</td>\n",
       "      <td>3</td>\n",
       "      <td>2</td>\n",
       "      <td>1</td>\n",
       "      <td>7</td>\n",
       "      <td>0</td>\n",
       "      <td>3</td>\n",
       "      <td>4</td>\n",
       "      <td>1</td>\n",
       "      <td>0</td>\n",
       "      <td>11</td>\n",
       "      <td>1</td>\n",
       "      <td>3</td>\n",
       "      <td>81</td>\n",
       "      <td>26</td>\n",
       "      <td>3</td>\n",
       "      <td>0</td>\n",
       "      <td>4</td>\n",
       "      <td>3</td>\n",
       "      <td>3</td>\n",
       "      <td>23</td>\n",
       "      <td>5</td>\n",
       "      <td>1</td>\n",
       "      <td>0</td>\n",
       "      <td>0</td>\n",
       "      <td>0</td>\n",
       "      <td>0</td>\n",
       "      <td>0</td>\n",
       "      <td>0</td>\n",
       "      <td>0</td>\n",
       "      <td>12</td>\n",
       "      <td>1</td>\n",
       "      <td>1</td>\n",
       "      <td>0.204636</td>\n",
       "      <td>0.213</td>\n",
       "      <td>0.451613</td>\n",
       "      <td>0.018639</td>\n",
       "      <td>0.214520</td>\n",
       "      <td>-999.000000</td>\n",
       "      <td>0.200814</td>\n",
       "      <td>0.051046</td>\n",
       "      <td>0.980827</td>\n",
       "      <td>0.018536</td>\n",
       "      <td>-999.000000</td>\n",
       "      <td>-999.00000</td>\n",
       "      <td>0.382353</td>\n",
       "      <td>0.242647</td>\n",
       "      <td>0</td>\n",
       "    </tr>\n",
       "    <tr>\n",
       "      <th>3</th>\n",
       "      <td>43</td>\n",
       "      <td>20</td>\n",
       "      <td>39</td>\n",
       "      <td>1751</td>\n",
       "      <td>2689</td>\n",
       "      <td>8235</td>\n",
       "      <td>1042</td>\n",
       "      <td>13</td>\n",
       "      <td>10</td>\n",
       "      <td>1</td>\n",
       "      <td>14</td>\n",
       "      <td>2890</td>\n",
       "      <td>6541</td>\n",
       "      <td>811</td>\n",
       "      <td>8</td>\n",
       "      <td>59</td>\n",
       "      <td>60</td>\n",
       "      <td>23</td>\n",
       "      <td>5</td>\n",
       "      <td>624</td>\n",
       "      <td>8</td>\n",
       "      <td>839</td>\n",
       "      <td>0</td>\n",
       "      <td>0</td>\n",
       "      <td>0</td>\n",
       "      <td>0</td>\n",
       "      <td>1</td>\n",
       "      <td>1</td>\n",
       "      <td>19</td>\n",
       "      <td>1</td>\n",
       "      <td>2</td>\n",
       "      <td>0</td>\n",
       "      <td>8</td>\n",
       "      <td>0</td>\n",
       "      <td>11</td>\n",
       "      <td>414</td>\n",
       "      <td>27</td>\n",
       "      <td>0</td>\n",
       "      <td>0</td>\n",
       "      <td>4</td>\n",
       "      <td>10</td>\n",
       "      <td>3</td>\n",
       "      <td>22</td>\n",
       "      <td>10</td>\n",
       "      <td>1</td>\n",
       "      <td>1</td>\n",
       "      <td>1</td>\n",
       "      <td>0</td>\n",
       "      <td>1</td>\n",
       "      <td>1</td>\n",
       "      <td>0</td>\n",
       "      <td>0</td>\n",
       "      <td>36</td>\n",
       "      <td>1</td>\n",
       "      <td>1</td>\n",
       "      <td>0.208299</td>\n",
       "      <td>0.716</td>\n",
       "      <td>0.101075</td>\n",
       "      <td>0.204753</td>\n",
       "      <td>0.349421</td>\n",
       "      <td>-999.000000</td>\n",
       "      <td>0.352379</td>\n",
       "      <td>0.044301</td>\n",
       "      <td>0.951564</td>\n",
       "      <td>0.023684</td>\n",
       "      <td>0.363370</td>\n",
       "      <td>0.00201</td>\n",
       "      <td>0.147059</td>\n",
       "      <td>0.132353</td>\n",
       "      <td>0</td>\n",
       "    </tr>\n",
       "    <tr>\n",
       "      <th>4</th>\n",
       "      <td>46</td>\n",
       "      <td>7</td>\n",
       "      <td>44</td>\n",
       "      <td>2262</td>\n",
       "      <td>29428</td>\n",
       "      <td>6031</td>\n",
       "      <td>304</td>\n",
       "      <td>16</td>\n",
       "      <td>-999</td>\n",
       "      <td>3</td>\n",
       "      <td>63</td>\n",
       "      <td>13541</td>\n",
       "      <td>7238</td>\n",
       "      <td>260</td>\n",
       "      <td>10</td>\n",
       "      <td>55</td>\n",
       "      <td>56</td>\n",
       "      <td>20</td>\n",
       "      <td>5</td>\n",
       "      <td>1413</td>\n",
       "      <td>10</td>\n",
       "      <td>270</td>\n",
       "      <td>2</td>\n",
       "      <td>3</td>\n",
       "      <td>2</td>\n",
       "      <td>1</td>\n",
       "      <td>8</td>\n",
       "      <td>1</td>\n",
       "      <td>3</td>\n",
       "      <td>4</td>\n",
       "      <td>1</td>\n",
       "      <td>0</td>\n",
       "      <td>17</td>\n",
       "      <td>4</td>\n",
       "      <td>3</td>\n",
       "      <td>567</td>\n",
       "      <td>8</td>\n",
       "      <td>3</td>\n",
       "      <td>2</td>\n",
       "      <td>4</td>\n",
       "      <td>5</td>\n",
       "      <td>3</td>\n",
       "      <td>26</td>\n",
       "      <td>5</td>\n",
       "      <td>1</td>\n",
       "      <td>0</td>\n",
       "      <td>0</td>\n",
       "      <td>0</td>\n",
       "      <td>0</td>\n",
       "      <td>1</td>\n",
       "      <td>0</td>\n",
       "      <td>0</td>\n",
       "      <td>19</td>\n",
       "      <td>1</td>\n",
       "      <td>1</td>\n",
       "      <td>0.222896</td>\n",
       "      <td>0.596</td>\n",
       "      <td>0.101075</td>\n",
       "      <td>0.140394</td>\n",
       "      <td>0.189641</td>\n",
       "      <td>0.021226</td>\n",
       "      <td>0.226161</td>\n",
       "      <td>0.059125</td>\n",
       "      <td>0.906155</td>\n",
       "      <td>0.020733</td>\n",
       "      <td>-999.000000</td>\n",
       "      <td>-999.00000</td>\n",
       "      <td>0.455882</td>\n",
       "      <td>0.132353</td>\n",
       "      <td>1</td>\n",
       "    </tr>\n",
       "  </tbody>\n",
       "</table>\n",
       "</div>"
      ],
      "text/plain": [
       "   id  var1  var2  var3   var4  var5  var6  var7  var8  var9  var10  var11  \\\n",
       "0   1    18    19  2853  29442  1386  2435    35  -999     3     63   6498   \n",
       "1   8     4   110  1986  13684  7189  -999  -999    17     3     63  13989   \n",
       "2  30     0    39  1019  10232   678   791    16  -999     3     63   9739   \n",
       "3  43    20    39  1751   2689  8235  1042    13    10     1     14   2890   \n",
       "4  46     7    44  2262  29428  6031   304    16  -999     3     63  13541   \n",
       "\n",
       "   var12  var13  var14  var15  var16  var17  var18  var19  var20  var21  \\\n",
       "0   1166   2007     26     13     11     11      4   1547     26   2068   \n",
       "1    497   2289     16      1      3      3      3   1797     16   2417   \n",
       "2    562    641     10     34     34     10      4    511     10    664   \n",
       "3   6541    811      8     59     60     23      5    624      8    839   \n",
       "4   7238    260     10     55     56     20      5   1413     10    270   \n",
       "\n",
       "   var22  var23  var24  var25  var26  var27  var28  var29  var30  var31  \\\n",
       "0      1      3      0      4      7      0     24      4      2      0   \n",
       "1      5      1      2      1      6      1      4      2      1      0   \n",
       "2      5      3      2      1      7      0      3      4      1      0   \n",
       "3      0      0      0      0      1      1     19      1      2      0   \n",
       "4      2      3      2      1      8      1      3      4      1      0   \n",
       "\n",
       "   var32  var33  var34  var35  var36  var37  var38  var39  var40  var41  \\\n",
       "0     16      3     44    463     27      2      0      4      9      3   \n",
       "1     14      0      1    532      2      1      0      4      7      3   \n",
       "2     11      1      3     81     26      3      0      4      3      3   \n",
       "3      8      0     11    414     27      0      0      4     10      3   \n",
       "4     17      4      3    567      8      3      2      4      5      3   \n",
       "\n",
       "   var42  var43  var44  var45  var46  var47  var48  var49  var50  var51  \\\n",
       "0     25      6      1      4      3      1      0      0      0      0   \n",
       "1     30      3      0      0      0      0      0      0      0      0   \n",
       "2     23      5      1      0      0      0      0      0      0      0   \n",
       "3     22     10      1      1      1      0      1      1      0      0   \n",
       "4     26      5      1      0      0      0      0      1      0      0   \n",
       "\n",
       "   var52  var53  var54     var55  var56     var57     var58     var59  \\\n",
       "0     42      1      1  0.212414  0.137  0.833333  0.037822  0.058070   \n",
       "1     20      1      1  0.228784  0.308  0.305376  0.069325  0.248909   \n",
       "2     12      1      1  0.204636  0.213  0.451613  0.018639  0.214520   \n",
       "3     36      1      1  0.208299  0.716  0.101075  0.204753  0.349421   \n",
       "4     19      1      1  0.222896  0.596  0.101075  0.140394  0.189641   \n",
       "\n",
       "        var60       var61     var62     var63     var64       var65  \\\n",
       "0    0.311441    0.142303  0.056146  0.632694  0.024054    0.253356   \n",
       "1 -999.000000 -999.000000  0.070991  0.773966  0.019315 -999.000000   \n",
       "2 -999.000000    0.200814  0.051046  0.980827  0.018536 -999.000000   \n",
       "3 -999.000000    0.352379  0.044301  0.951564  0.023684    0.363370   \n",
       "4    0.021226    0.226161  0.059125  0.906155  0.020733 -999.000000   \n",
       "\n",
       "       var66     var67     var68  y  \n",
       "0    0.00603  0.132353  0.139706  1  \n",
       "1 -999.00000  0.147059  0.106618  0  \n",
       "2 -999.00000  0.382353  0.242647  0  \n",
       "3    0.00201  0.147059  0.132353  0  \n",
       "4 -999.00000  0.455882  0.132353  1  "
      ]
     },
     "metadata": {},
     "execution_count": 3
    }
   ],
   "metadata": {}
  },
  {
   "cell_type": "code",
   "execution_count": 10,
   "source": [
    "desc = data.describe().T\n",
    "\n",
    "f, ax = plt.subplots(figsize=(12, 30))\n",
    "\n",
    "sns.heatmap(desc, annot=True, cmap='CMRmap_r', fmt='.02f',\n",
    "            ax=ax, linewidths=5, cbar=False,\n",
    "            annot_kws={'size': 16})\n",
    "\n",
    "plt.xticks(size = 18)\n",
    "plt.yticks(size = 12, rotation = 0)\n",
    "plt.ylabel(\"Variables\")\n",
    "plt.title(\"Descriptive Statistics\", size = 16)\n",
    "plt.show()"
   ],
   "outputs": [],
   "metadata": {}
  },
  {
   "cell_type": "code",
   "execution_count": 3,
   "source": [
    "drop = ['var9', 'var22', 'var23', 'var24', 'var25', 'var27', 'var29', 'var30', \n",
    "        'var31', 'var33', 'var39', 'var41', 'var44', 'var45', 'var46',\n",
    "        'var47', 'var48', 'var49', 'var50', 'var51', 'var53', 'var54', 'y']"
   ],
   "outputs": [],
   "metadata": {}
  },
  {
   "cell_type": "code",
   "execution_count": 4,
   "source": [
    "df = data[drop]"
   ],
   "outputs": [],
   "metadata": {}
  },
  {
   "cell_type": "code",
   "execution_count": 13,
   "source": [
    "for col in df.columns[1:]:\n",
    "  print(f\"Col {col} = {df[col].unique()}\")"
   ],
   "outputs": [
    {
     "output_type": "stream",
     "name": "stdout",
     "text": [
      "Col var22 = [1 5 0 2 4 3]\n",
      "Col var23 = [3 1 0 2 4]\n",
      "Col var24 = [0 2 1]\n",
      "Col var25 = [4 1 0 3 2]\n",
      "Col var27 = [0 1]\n",
      "Col var29 = [4 2 1 3 5 0]\n",
      "Col var30 = [2 1 0]\n",
      "Col var31 = [0 1]\n",
      "Col var33 = [3 0 1 4 5 6 2]\n",
      "Col var39 = [4 1 2 5 0 3]\n",
      "Col var41 = [3 5 1 8 4 6 7 9 2 0]\n",
      "Col var44 = [1 0]\n",
      "Col var45 = [ 4  0  1  3  2  9  5  8  6 12  7 11 10 15 14 13]\n",
      "Col var46 = [ 3  0  1  2  7  5  4  6  9  8 11 12 15 10 14]\n",
      "Col var47 = [1 0 2 4 3 5]\n",
      "Col var48 = [0 1 2 5 3 4 8 7 6 9]\n",
      "Col var49 = [0 1]\n",
      "Col var50 = [0 1]\n",
      "Col var51 = [0 1]\n",
      "Col var53 = [1 3 2 0]\n",
      "Col var54 = [1 2 0 3]\n",
      "Col y = [1 0]\n"
     ]
    }
   ],
   "metadata": {}
  },
  {
   "cell_type": "markdown",
   "source": [
    "# Create Model"
   ],
   "metadata": {}
  },
  {
   "cell_type": "markdown",
   "source": [
    "## Spliting data and resampled"
   ],
   "metadata": {}
  },
  {
   "cell_type": "code",
   "execution_count": 18,
   "source": [
    "X = data.drop('y', axis=1)\n",
    "y = data['y']"
   ],
   "outputs": [],
   "metadata": {}
  },
  {
   "cell_type": "code",
   "execution_count": 20,
   "source": [
    "X_resampled, y_resampled = SMOTE().fit_resample(X, y)"
   ],
   "outputs": [],
   "metadata": {}
  },
  {
   "cell_type": "code",
   "execution_count": 21,
   "source": [
    "X_train, X_test, y_train, y_test = train_test_split(X_resampled, y_resampled, test_size=0.4, random_state=42)"
   ],
   "outputs": [],
   "metadata": {}
  },
  {
   "cell_type": "code",
   "execution_count": 22,
   "source": [
    "scaler = StandardScaler()\n",
    "X_train = scaler.fit_transform(X_train)\n",
    "X_test = scaler.fit_transform(X_test)"
   ],
   "outputs": [],
   "metadata": {}
  },
  {
   "cell_type": "code",
   "execution_count": 23,
   "source": [
    "X_train.shape"
   ],
   "outputs": [
    {
     "output_type": "execute_result",
     "data": {
      "text/plain": [
       "(13527, 69)"
      ]
     },
     "metadata": {},
     "execution_count": 23
    }
   ],
   "metadata": {}
  },
  {
   "cell_type": "code",
   "execution_count": 25,
   "source": [
    "model = Sequential()\n",
    "model.add(Dense(units=60, activation='relu', input_dim=69))\n",
    "model.add(Dense(units = 32, activation = 'relu'))\n",
    "model.add(Dense(units = 32, activation = 'relu'))\n",
    "model.add(Dense(units = 1, activation = 'sigmoid'))\n",
    "model.compile(optimizer = 'adam', loss = 'binary_crossentropy', metrics = ['accuracy'])\n",
    "model.fit(X_train, y_train, batch_size = 10, epochs = 100)\n",
    "\n",
    "pred = model.predict(X_test)"
   ],
   "outputs": [
    {
     "output_type": "stream",
     "name": "stdout",
     "text": [
      "1353/1353 [==============================] - 1s 991us/step - loss: 0.0585 - accuracy: 0.9793\n",
      "Epoch 37/100\n",
      "1353/1353 [==============================] - 1s 903us/step - loss: 0.0589 - accuracy: 0.9770\n",
      "Epoch 38/100\n",
      "1353/1353 [==============================] - 1s 906us/step - loss: 0.0526 - accuracy: 0.9809\n",
      "Epoch 39/100\n",
      "1353/1353 [==============================] - 1s 888us/step - loss: 0.0509 - accuracy: 0.9816\n",
      "Epoch 40/100\n",
      "1353/1353 [==============================] - 2s 1ms/step - loss: 0.0484 - accuracy: 0.9823\n",
      "Epoch 41/100\n",
      "1353/1353 [==============================] - 1s 944us/step - loss: 0.0476 - accuracy: 0.9823\n",
      "Epoch 42/100\n",
      "1353/1353 [==============================] - 1s 950us/step - loss: 0.0516 - accuracy: 0.9818\n",
      "Epoch 43/100\n",
      "1353/1353 [==============================] - 1s 947us/step - loss: 0.0475 - accuracy: 0.9831\n",
      "Epoch 44/100\n",
      "1353/1353 [==============================] - 1s 944us/step - loss: 0.0405 - accuracy: 0.9859\n",
      "Epoch 45/100\n",
      "1353/1353 [==============================] - 1s 970us/step - loss: 0.0505 - accuracy: 0.9819\n",
      "Epoch 46/100\n",
      "1353/1353 [==============================] - 1s 966us/step - loss: 0.0425 - accuracy: 0.9849\n",
      "Epoch 47/100\n",
      "1353/1353 [==============================] - 1s 997us/step - loss: 0.0405 - accuracy: 0.9851\n",
      "Epoch 48/100\n",
      "1353/1353 [==============================] - 1s 999us/step - loss: 0.0334 - accuracy: 0.9890\n",
      "Epoch 49/100\n",
      "1353/1353 [==============================] - 1s 1ms/step - loss: 0.0453 - accuracy: 0.9845\n",
      "Epoch 50/100\n",
      "1353/1353 [==============================] - 1s 994us/step - loss: 0.0441 - accuracy: 0.9853\n",
      "Epoch 51/100\n",
      "1353/1353 [==============================] - 1s 1ms/step - loss: 0.0332 - accuracy: 0.9888\n",
      "Epoch 52/100\n",
      "1353/1353 [==============================] - 1s 1ms/step - loss: 0.0386 - accuracy: 0.9871\n",
      "Epoch 53/100\n",
      "1353/1353 [==============================] - 1s 1ms/step - loss: 0.0558 - accuracy: 0.9834\n",
      "Epoch 54/100\n",
      "1353/1353 [==============================] - 1s 1ms/step - loss: 0.0296 - accuracy: 0.9895\n",
      "Epoch 55/100\n",
      "1353/1353 [==============================] - 1s 1ms/step - loss: 0.0360 - accuracy: 0.9880\n",
      "Epoch 56/100\n",
      "1353/1353 [==============================] - 1s 1ms/step - loss: 0.0352 - accuracy: 0.9864\n",
      "Epoch 57/100\n",
      "1353/1353 [==============================] - 1s 959us/step - loss: 0.0457 - accuracy: 0.9847\n",
      "Epoch 58/100\n",
      "1353/1353 [==============================] - 1s 949us/step - loss: 0.0281 - accuracy: 0.9916\n",
      "Epoch 59/100\n",
      "1353/1353 [==============================] - 1s 975us/step - loss: 0.0370 - accuracy: 0.9890\n",
      "Epoch 60/100\n",
      "1353/1353 [==============================] - 1s 973us/step - loss: 0.0394 - accuracy: 0.9872\n",
      "Epoch 61/100\n",
      "1353/1353 [==============================] - 1s 928us/step - loss: 0.0299 - accuracy: 0.9899\n",
      "Epoch 62/100\n",
      "1353/1353 [==============================] - 1s 963us/step - loss: 0.0349 - accuracy: 0.9876\n",
      "Epoch 63/100\n",
      "1353/1353 [==============================] - 1s 1ms/step - loss: 0.0320 - accuracy: 0.9897\n",
      "Epoch 64/100\n",
      "1353/1353 [==============================] - 1s 986us/step - loss: 0.0271 - accuracy: 0.9910\n",
      "Epoch 65/100\n",
      "1353/1353 [==============================] - 1s 1ms/step - loss: 0.0371 - accuracy: 0.9870\n",
      "Epoch 66/100\n",
      "1353/1353 [==============================] - 1s 988us/step - loss: 0.0366 - accuracy: 0.9888\n",
      "Epoch 67/100\n",
      "1353/1353 [==============================] - 1s 914us/step - loss: 0.0271 - accuracy: 0.9908\n",
      "Epoch 68/100\n",
      "1353/1353 [==============================] - 1s 951us/step - loss: 0.0241 - accuracy: 0.9920\n",
      "Epoch 69/100\n",
      "1353/1353 [==============================] - 1s 1ms/step - loss: 0.0294 - accuracy: 0.9903\n",
      "Epoch 70/100\n",
      "1353/1353 [==============================] - 1s 976us/step - loss: 0.0324 - accuracy: 0.9890\n",
      "Epoch 71/100\n",
      "1353/1353 [==============================] - 2s 1ms/step - loss: 0.0348 - accuracy: 0.9884\n",
      "Epoch 72/100\n",
      "1353/1353 [==============================] - 1s 1ms/step - loss: 0.0264 - accuracy: 0.9917\n",
      "Epoch 73/100\n",
      "1353/1353 [==============================] - 1s 978us/step - loss: 0.0406 - accuracy: 0.9882\n",
      "Epoch 74/100\n",
      "1353/1353 [==============================] - 1s 936us/step - loss: 0.0240 - accuracy: 0.9913\n",
      "Epoch 75/100\n",
      "1353/1353 [==============================] - 1s 939us/step - loss: 0.0199 - accuracy: 0.9933\n",
      "Epoch 76/100\n",
      "1353/1353 [==============================] - 1s 1ms/step - loss: 0.0278 - accuracy: 0.9900\n",
      "Epoch 77/100\n",
      "1353/1353 [==============================] - 1s 1ms/step - loss: 0.0365 - accuracy: 0.9874\n",
      "Epoch 78/100\n",
      "1353/1353 [==============================] - 1s 1ms/step - loss: 0.0236 - accuracy: 0.9920\n",
      "Epoch 79/100\n",
      "1353/1353 [==============================] - 1s 974us/step - loss: 0.0196 - accuracy: 0.9931\n",
      "Epoch 80/100\n",
      "1353/1353 [==============================] - 1s 982us/step - loss: 0.0277 - accuracy: 0.9902\n",
      "Epoch 81/100\n",
      "1353/1353 [==============================] - 1s 996us/step - loss: 0.0303 - accuracy: 0.9906\n",
      "Epoch 82/100\n",
      "1353/1353 [==============================] - 1s 981us/step - loss: 0.0195 - accuracy: 0.9934\n",
      "Epoch 83/100\n",
      "1353/1353 [==============================] - 1s 932us/step - loss: 0.0336 - accuracy: 0.9890\n",
      "Epoch 84/100\n",
      "1353/1353 [==============================] - 1s 942us/step - loss: 0.0263 - accuracy: 0.9903\n",
      "Epoch 85/100\n",
      "1353/1353 [==============================] - 1s 1ms/step - loss: 0.0200 - accuracy: 0.9935\n",
      "Epoch 86/100\n",
      "1353/1353 [==============================] - 2s 1ms/step - loss: 0.0303 - accuracy: 0.9899\n",
      "Epoch 87/100\n",
      "1353/1353 [==============================] - 1s 961us/step - loss: 0.0282 - accuracy: 0.9911\n",
      "Epoch 88/100\n",
      "1353/1353 [==============================] - 1s 945us/step - loss: 0.0140 - accuracy: 0.9953\n",
      "Epoch 89/100\n",
      "1353/1353 [==============================] - 1s 948us/step - loss: 0.0340 - accuracy: 0.9894\n",
      "Epoch 90/100\n",
      "1353/1353 [==============================] - 1s 949us/step - loss: 0.0182 - accuracy: 0.9939\n",
      "Epoch 91/100\n",
      "1353/1353 [==============================] - 1s 1ms/step - loss: 0.0255 - accuracy: 0.9928\n",
      "Epoch 92/100\n",
      "1353/1353 [==============================] - 1s 959us/step - loss: 0.0219 - accuracy: 0.9929\n",
      "Epoch 93/100\n",
      "1353/1353 [==============================] - 1s 1ms/step - loss: 0.0196 - accuracy: 0.9937\n",
      "Epoch 94/100\n",
      "1353/1353 [==============================] - 1s 947us/step - loss: 0.0154 - accuracy: 0.9945\n",
      "Epoch 95/100\n",
      "1353/1353 [==============================] - 1s 959us/step - loss: 0.0334 - accuracy: 0.9879\n",
      "Epoch 96/100\n",
      "1353/1353 [==============================] - 1s 965us/step - loss: 0.0209 - accuracy: 0.9928\n",
      "Epoch 97/100\n",
      "1353/1353 [==============================] - 1s 953us/step - loss: 0.0289 - accuracy: 0.9902\n",
      "Epoch 98/100\n",
      "1353/1353 [==============================] - 1s 968us/step - loss: 0.0165 - accuracy: 0.9956\n",
      "Epoch 99/100\n",
      "1353/1353 [==============================] - 1s 974us/step - loss: 0.0310 - accuracy: 0.9902\n",
      "Epoch 100/100\n",
      "1353/1353 [==============================] - 1s 983us/step - loss: 0.0275 - accuracy: 0.9918\n"
     ]
    }
   ],
   "metadata": {}
  },
  {
   "cell_type": "code",
   "execution_count": 26,
   "source": [
    "pred"
   ],
   "outputs": [
    {
     "output_type": "execute_result",
     "data": {
      "text/plain": [
       "array([[9.9995834e-01],\n",
       "       [1.0000000e+00],\n",
       "       [1.0000000e+00],\n",
       "       ...,\n",
       "       [2.2545039e-06],\n",
       "       [1.9642413e-03],\n",
       "       [9.8140013e-01]], dtype=float32)"
      ]
     },
     "metadata": {},
     "execution_count": 26
    }
   ],
   "metadata": {}
  },
  {
   "cell_type": "code",
   "execution_count": 28,
   "source": [
    "pred = (pred > 0.5)"
   ],
   "outputs": [],
   "metadata": {}
  },
  {
   "cell_type": "code",
   "execution_count": 29,
   "source": [
    "pred"
   ],
   "outputs": [
    {
     "output_type": "execute_result",
     "data": {
      "text/plain": [
       "array([[ True],\n",
       "       [ True],\n",
       "       [ True],\n",
       "       ...,\n",
       "       [False],\n",
       "       [False],\n",
       "       [ True]])"
      ]
     },
     "metadata": {},
     "execution_count": 29
    }
   ],
   "metadata": {}
  },
  {
   "cell_type": "code",
   "execution_count": null,
   "source": [
    "# pred = model.predict(X_test)"
   ],
   "outputs": [],
   "metadata": {}
  },
  {
   "cell_type": "code",
   "execution_count": null,
   "source": [],
   "outputs": [],
   "metadata": {}
  },
  {
   "cell_type": "markdown",
   "source": [
    "## Ligth GBM"
   ],
   "metadata": {}
  },
  {
   "cell_type": "code",
   "execution_count": 7,
   "source": [
    "pipe = Pipeline([('model', LGBMClassifier())])"
   ],
   "outputs": [],
   "metadata": {}
  },
  {
   "cell_type": "code",
   "execution_count": 8,
   "source": [
    "pipe.fit(X_train, y_train)"
   ],
   "outputs": [
    {
     "output_type": "execute_result",
     "data": {
      "text/plain": [
       "Pipeline(steps=[('model', LGBMClassifier())])"
      ]
     },
     "metadata": {},
     "execution_count": 8
    }
   ],
   "metadata": {}
  },
  {
   "cell_type": "code",
   "execution_count": 9,
   "source": [
    "pipe.score(X_test, y_test)"
   ],
   "outputs": [
    {
     "output_type": "execute_result",
     "data": {
      "text/plain": [
       "0.9111874930701852"
      ]
     },
     "metadata": {},
     "execution_count": 9
    }
   ],
   "metadata": {}
  },
  {
   "cell_type": "markdown",
   "source": [
    "## Cros Val Score"
   ],
   "metadata": {}
  },
  {
   "cell_type": "code",
   "execution_count": 10,
   "source": [
    "def cross_val(pipe, X, y, cv):\n",
    "    return cross_val_score(pipe, X, y, scoring='f1', cv=cv, n_jobs=-1)"
   ],
   "outputs": [],
   "metadata": {}
  },
  {
   "cell_type": "code",
   "execution_count": null,
   "source": [
    "cv = RepeatedStratifiedKFold(n_splits=5, n_repeats=3, random_state=42)"
   ],
   "outputs": [],
   "metadata": {}
  },
  {
   "cell_type": "code",
   "execution_count": 42,
   "source": [
    "cross_val(pipe, X, y, cv).mean()"
   ],
   "outputs": [
    {
     "output_type": "execute_result",
     "data": {
      "text/plain": [
       "0.6412376047573998"
      ]
     },
     "metadata": {},
     "execution_count": 42
    }
   ],
   "metadata": {}
  },
  {
   "cell_type": "markdown",
   "source": [
    "## Tune Model, com bayesian optimize"
   ],
   "metadata": {}
  },
  {
   "cell_type": "code",
   "execution_count": 11,
   "source": [
    "params = {'model__learning_rate': [0.01], 'model__n_estimators': [8, 24, 50, 100, 500],\n",
    "                   'model__num_leaves': [6, 8, 12, 16], 'model__boosting_type': ['gbdt'], \n",
    "                   'model__seed': [500],\n",
    "                   'model__colsample_bytree': [0.65, 0.75, 0.8], \n",
    "                   'model__subsample': [0.7, 0.75], 'model__reg_alpha': [1, 2, 6],\n",
    "                   'model__reg_lambda': [1, 2, 6]}"
   ],
   "outputs": [],
   "metadata": {}
  },
  {
   "cell_type": "code",
   "execution_count": 12,
   "source": [
    "model_tune = BayesSearchCV(pipe, [(params, 20)], n_iter=-1, cv=cv)"
   ],
   "outputs": [
    {
     "output_type": "error",
     "ename": "NameError",
     "evalue": "name 'cv' is not defined",
     "traceback": [
      "\u001b[0;31m---------------------------------------------------------------------------\u001b[0m",
      "\u001b[0;31mNameError\u001b[0m                                 Traceback (most recent call last)",
      "\u001b[0;32m/tmp/ipykernel_11483/2818227475.py\u001b[0m in \u001b[0;36m<module>\u001b[0;34m\u001b[0m\n\u001b[0;32m----> 1\u001b[0;31m \u001b[0mmodel_tune\u001b[0m \u001b[0;34m=\u001b[0m \u001b[0mBayesSearchCV\u001b[0m\u001b[0;34m(\u001b[0m\u001b[0mpipe\u001b[0m\u001b[0;34m,\u001b[0m \u001b[0;34m[\u001b[0m\u001b[0;34m(\u001b[0m\u001b[0mparams\u001b[0m\u001b[0;34m,\u001b[0m \u001b[0;36m20\u001b[0m\u001b[0;34m)\u001b[0m\u001b[0;34m]\u001b[0m\u001b[0;34m,\u001b[0m \u001b[0mn_iter\u001b[0m\u001b[0;34m=\u001b[0m\u001b[0;34m-\u001b[0m\u001b[0;36m1\u001b[0m\u001b[0;34m,\u001b[0m \u001b[0mcv\u001b[0m\u001b[0;34m=\u001b[0m\u001b[0mcv\u001b[0m\u001b[0;34m)\u001b[0m\u001b[0;34m\u001b[0m\u001b[0;34m\u001b[0m\u001b[0m\n\u001b[0m",
      "\u001b[0;31mNameError\u001b[0m: name 'cv' is not defined"
     ]
    }
   ],
   "metadata": {}
  },
  {
   "cell_type": "code",
   "execution_count": 45,
   "source": [
    "model_tune.fit(X_train, y_train)"
   ],
   "outputs": [],
   "metadata": {}
  },
  {
   "cell_type": "code",
   "execution_count": 1,
   "source": [
    "model_tune.score(X_test, y_test)"
   ],
   "outputs": [
    {
     "output_type": "error",
     "ename": "NameError",
     "evalue": "name 'model_tune' is not defined",
     "traceback": [
      "\u001b[0;31m---------------------------------------------------------------------------\u001b[0m",
      "\u001b[0;31mNameError\u001b[0m                                 Traceback (most recent call last)",
      "\u001b[0;32m/tmp/ipykernel_11483/3302933949.py\u001b[0m in \u001b[0;36m<module>\u001b[0;34m\u001b[0m\n\u001b[0;32m----> 1\u001b[0;31m \u001b[0mmodel_tune\u001b[0m\u001b[0;34m.\u001b[0m\u001b[0mscore\u001b[0m\u001b[0;34m(\u001b[0m\u001b[0mX_test\u001b[0m\u001b[0;34m,\u001b[0m \u001b[0my_test\u001b[0m\u001b[0;34m)\u001b[0m\u001b[0;34m\u001b[0m\u001b[0;34m\u001b[0m\u001b[0m\n\u001b[0m",
      "\u001b[0;31mNameError\u001b[0m: name 'model_tune' is not defined"
     ]
    }
   ],
   "metadata": {}
  },
  {
   "cell_type": "code",
   "execution_count": null,
   "source": [
    "cross_val(model_tune, X, y)"
   ],
   "outputs": [],
   "metadata": {}
  },
  {
   "cell_type": "markdown",
   "source": [
    "# Submission"
   ],
   "metadata": {}
  },
  {
   "cell_type": "code",
   "execution_count": 129,
   "source": [
    "y_pred = clf.predict(X_test)"
   ],
   "outputs": [],
   "metadata": {}
  },
  {
   "cell_type": "code",
   "execution_count": 130,
   "source": [
    "f1_score(y_test, y_pred)"
   ],
   "outputs": [
    {
     "output_type": "execute_result",
     "data": {
      "text/plain": [
       "0.7388869026337742"
      ]
     },
     "metadata": {},
     "execution_count": 130
    }
   ],
   "metadata": {}
  },
  {
   "cell_type": "code",
   "execution_count": 131,
   "source": [
    "print(classification_report(y_test, y_pred))"
   ],
   "outputs": [
    {
     "output_type": "stream",
     "name": "stdout",
     "text": [
      "              precision    recall  f1-score   support\n",
      "\n",
      "           0       0.72      0.83      0.77      4467\n",
      "           1       0.81      0.68      0.74      4552\n",
      "\n",
      "    accuracy                           0.76      9019\n",
      "   macro avg       0.76      0.76      0.76      9019\n",
      "weighted avg       0.76      0.76      0.76      9019\n",
      "\n"
     ]
    }
   ],
   "metadata": {}
  },
  {
   "cell_type": "markdown",
   "source": [
    "## Submission"
   ],
   "metadata": {}
  },
  {
   "cell_type": "code",
   "execution_count": 15,
   "source": [
    "pred = model.predict(X_test)"
   ],
   "outputs": [],
   "metadata": {}
  },
  {
   "cell_type": "code",
   "execution_count": 16,
   "source": [
    "X_test.shape"
   ],
   "outputs": [
    {
     "output_type": "execute_result",
     "data": {
      "text/plain": [
       "(9019, 44)"
      ]
     },
     "metadata": {},
     "execution_count": 16
    }
   ],
   "metadata": {}
  },
  {
   "cell_type": "code",
   "execution_count": 17,
   "source": [
    "test.shape"
   ],
   "outputs": [
    {
     "output_type": "execute_result",
     "data": {
      "text/plain": [
       "(21183, 69)"
      ]
     },
     "metadata": {},
     "execution_count": 17
    }
   ],
   "metadata": {}
  },
  {
   "cell_type": "code",
   "execution_count": 30,
   "source": [
    "sub_pred = model.predict(test)"
   ],
   "outputs": [],
   "metadata": {}
  },
  {
   "cell_type": "code",
   "execution_count": 32,
   "source": [
    "sub_pred"
   ],
   "outputs": [
    {
     "output_type": "execute_result",
     "data": {
      "text/plain": [
       "array([[1.],\n",
       "       [1.],\n",
       "       [0.],\n",
       "       ...,\n",
       "       [0.],\n",
       "       [0.],\n",
       "       [0.]], dtype=float32)"
      ]
     },
     "metadata": {},
     "execution_count": 32
    }
   ],
   "metadata": {}
  },
  {
   "cell_type": "code",
   "execution_count": 31,
   "source": [
    "sub_pred.shape"
   ],
   "outputs": [
    {
     "output_type": "execute_result",
     "data": {
      "text/plain": [
       "(21183, 1)"
      ]
     },
     "metadata": {},
     "execution_count": 31
    }
   ],
   "metadata": {}
  },
  {
   "cell_type": "code",
   "execution_count": 33,
   "source": [
    "df = pd.DataFrame()"
   ],
   "outputs": [],
   "metadata": {}
  },
  {
   "cell_type": "code",
   "execution_count": 35,
   "source": [
    "df = pd.DataFrame(sub_pred, columns=['predicted'])"
   ],
   "outputs": [],
   "metadata": {}
  },
  {
   "cell_type": "code",
   "execution_count": 36,
   "source": [
    "df = pd.concat([test['id'], df], axis=1)"
   ],
   "outputs": [],
   "metadata": {}
  },
  {
   "cell_type": "code",
   "execution_count": 137,
   "source": [
    "df"
   ],
   "outputs": [
    {
     "output_type": "execute_result",
     "data": {
      "text/html": [
       "<div>\n",
       "<style scoped>\n",
       "    .dataframe tbody tr th:only-of-type {\n",
       "        vertical-align: middle;\n",
       "    }\n",
       "\n",
       "    .dataframe tbody tr th {\n",
       "        vertical-align: top;\n",
       "    }\n",
       "\n",
       "    .dataframe thead th {\n",
       "        text-align: right;\n",
       "    }\n",
       "</style>\n",
       "<table border=\"1\" class=\"dataframe\">\n",
       "  <thead>\n",
       "    <tr style=\"text-align: right;\">\n",
       "      <th></th>\n",
       "      <th>id</th>\n",
       "      <th>predicted</th>\n",
       "    </tr>\n",
       "  </thead>\n",
       "  <tbody>\n",
       "    <tr>\n",
       "      <th>0</th>\n",
       "      <td>0</td>\n",
       "      <td>1</td>\n",
       "    </tr>\n",
       "    <tr>\n",
       "      <th>1</th>\n",
       "      <td>2</td>\n",
       "      <td>1</td>\n",
       "    </tr>\n",
       "    <tr>\n",
       "      <th>2</th>\n",
       "      <td>4</td>\n",
       "      <td>0</td>\n",
       "    </tr>\n",
       "    <tr>\n",
       "      <th>3</th>\n",
       "      <td>7</td>\n",
       "      <td>1</td>\n",
       "    </tr>\n",
       "    <tr>\n",
       "      <th>4</th>\n",
       "      <td>15</td>\n",
       "      <td>1</td>\n",
       "    </tr>\n",
       "    <tr>\n",
       "      <th>...</th>\n",
       "      <td>...</td>\n",
       "      <td>...</td>\n",
       "    </tr>\n",
       "    <tr>\n",
       "      <th>21178</th>\n",
       "      <td>35297</td>\n",
       "      <td>0</td>\n",
       "    </tr>\n",
       "    <tr>\n",
       "      <th>21179</th>\n",
       "      <td>35298</td>\n",
       "      <td>0</td>\n",
       "    </tr>\n",
       "    <tr>\n",
       "      <th>21180</th>\n",
       "      <td>35300</td>\n",
       "      <td>1</td>\n",
       "    </tr>\n",
       "    <tr>\n",
       "      <th>21181</th>\n",
       "      <td>35302</td>\n",
       "      <td>0</td>\n",
       "    </tr>\n",
       "    <tr>\n",
       "      <th>21182</th>\n",
       "      <td>35303</td>\n",
       "      <td>0</td>\n",
       "    </tr>\n",
       "  </tbody>\n",
       "</table>\n",
       "<p>21183 rows x 2 columns</p>\n",
       "</div>"
      ],
      "text/plain": [
       "          id  predicted\n",
       "0          0          1\n",
       "1          2          1\n",
       "2          4          0\n",
       "3          7          1\n",
       "4         15          1\n",
       "...      ...        ...\n",
       "21178  35297          0\n",
       "21179  35298          0\n",
       "21180  35300          1\n",
       "21181  35302          0\n",
       "21182  35303          0\n",
       "\n",
       "[21183 rows x 2 columns]"
      ]
     },
     "metadata": {},
     "execution_count": 137
    }
   ],
   "metadata": {}
  },
  {
   "cell_type": "code",
   "execution_count": 44,
   "source": [
    "df['predicted'] = df['predicted'].astype(bool)"
   ],
   "outputs": [],
   "metadata": {}
  },
  {
   "cell_type": "code",
   "execution_count": 45,
   "source": [
    "df.to_csv('submission/14.csv', index=False)"
   ],
   "outputs": [],
   "metadata": {}
  }
 ],
 "metadata": {
  "orig_nbformat": 4,
  "language_info": {
   "name": "python",
   "version": "3.9.5",
   "mimetype": "text/x-python",
   "codemirror_mode": {
    "name": "ipython",
    "version": 3
   },
   "pygments_lexer": "ipython3",
   "nbconvert_exporter": "python",
   "file_extension": ".py"
  },
  "kernelspec": {
   "name": "python3",
   "display_name": "Python 3.9.5 64-bit"
  },
  "interpreter": {
   "hash": "916dbcbb3f70747c44a77c7bcd40155683ae19c65e1c03b4aa3499c5328201f1"
  }
 },
 "nbformat": 4,
 "nbformat_minor": 2
}